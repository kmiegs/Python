{
 "cells": [
  {
   "cell_type": "markdown",
   "metadata": {},
   "source": [
    "# DATA TYPES IN PYTHON"
   ]
  },
  {
   "cell_type": "markdown",
   "metadata": {},
   "source": [
    "INT -> Integer\n"
   ]
  },
  {
   "cell_type": "code",
   "execution_count": 13,
   "metadata": {},
   "outputs": [],
   "source": [
    "integer_variable = 42"
   ]
  },
  {
   "cell_type": "markdown",
   "metadata": {},
   "source": [
    "FLOAT -> Decimal\n"
   ]
  },
  {
   "cell_type": "code",
   "execution_count": null,
   "metadata": {},
   "outputs": [],
   "source": [
    "float_variable = 3.14"
   ]
  },
  {
   "cell_type": "markdown",
   "metadata": {},
   "source": [
    "STRING -> Text"
   ]
  },
  {
   "cell_type": "code",
   "execution_count": null,
   "metadata": {},
   "outputs": [],
   "source": [
    "string_variable = \"Hello, Python!\""
   ]
  },
  {
   "cell_type": "markdown",
   "metadata": {},
   "source": [
    "LIST -> List"
   ]
  },
  {
   "cell_type": "code",
   "execution_count": null,
   "metadata": {},
   "outputs": [],
   "source": [
    "list_variable = [1, 2, 3, 4, 5]"
   ]
  },
  {
   "cell_type": "markdown",
   "metadata": {},
   "source": [
    "TUPLE -> Immutable List"
   ]
  },
  {
   "cell_type": "code",
   "execution_count": null,
   "metadata": {},
   "outputs": [],
   "source": [
    "tuple_variable = (10, 20, 30)"
   ]
  },
  {
   "cell_type": "markdown",
   "metadata": {},
   "source": [
    "SET -> Set"
   ]
  },
  {
   "cell_type": "markdown",
   "metadata": {},
   "source": [
    "set_variable = {1, 2, 3, 4, 5}"
   ]
  },
  {
   "cell_type": "markdown",
   "metadata": {},
   "source": [
    "# DATA TYPE FUNCTIONS IN PYTHON"
   ]
  },
  {
   "cell_type": "markdown",
   "metadata": {},
   "source": [
    "str() -> Convert to String"
   ]
  },
  {
   "cell_type": "code",
    "execution_count": null,
    "metadata": {},
    "outputs": [],
    "source": [
    "integer_variable = 42\n",
    "string_representation = str(integer_variable)"
   ]
  },
  {
   "cell_type": "markdown",
   "metadata": {},
   "source": [
    "int() -> Convert to Integer"
   ]
  },
  {
   "cell_type": "code",
   "execution_count": null,
   "metadata": {},
   "outputs": [],
   "source": [
    "float_variable = 3.14\n",
    "integer_value = int(float_variable)"
   ]
  },
  {
   "cell_type": "markdown",
   "metadata": {},
   "source": [
    " float() -> Convert to Float"
   ]
  },
  {
   "cell_type": "code",
   "execution_count": null,
   "metadata": {},
   "outputs": [],
   "source": [
    "string_number = \"123.45\"\n",
    "float_value = float(string_number)"
   ]
  },
  {
   "cell_type": "markdown",
   "metadata": {},
   "source": [
    "list() -> Convert to List"
   ]
  },
  {
   "cell_type": "code",
   "execution_count": null,
   "metadata": {},
   "outputs": [],
   "source": [
    "tuple_variable = (1, 2, 3)\n",
    "list_representation = list(tuple_variable)"
   ]
  },
  {
   "cell_type": "markdown",
   "metadata": {},
   "source": [
    "# GENERAL FUNCTIONS IN PYTHON\n"
   ]
  },
  {
   "cell_type": "markdown",
   "metadata": {},
   "source": [
    "\n",
    "type() -> Get the Type of an Object\n"
   ]
  },
  {
   "cell_type": "code",
   "execution_count": null,
   "metadata": {},
   "outputs": [],
   "source": [
    "variable = 42\n",
    "type_of_variable = type(variable)"
   ]
  },
  {
   "cell_type": "markdown",
   "metadata": {},
   "source": [
    "len() -> Get the Length of an Object\n"
   ]
  },
  {
   "cell_type": "code",
   "execution_count": null,
   "metadata": {},
   "outputs": [],
   "source": [
    "list_variable = [1, 2, 3, 4, 5]\n",
    "length_of_list = len(list_variable)"
   ]
  },
  {
   "cell_type": "markdown",
   "metadata": {},
   "source": [
    "round() -> Round a Floating-Point Number\n"
   ]
  },
  {
   "cell_type": "code",
   "execution_count": null,
   "metadata": {},
   "outputs": [],
   "source": [
    "float_number = 3.14159\n",
    "rounded_number = round(float_number, 2)"
   ]
  },
  {
   "cell_type": "markdown",
   "metadata": {},
   "source": [
    "sys module\n"
   ]
  },
  {
   "cell_type": "code",
   "execution_count": null,
   "metadata": {},
   "outputs": [],
   "source": [
    "import sys\n",
    "print(\"Current sys.path:\", sys.path)"
   ]
  },
  {
   "cell_type": "markdown",
   "metadata": {},
   "source": [
    "# MODULES\n"
   ]
  },
  {
   "cell_type": "code",
   "execution_count": null,
   "metadata": {},
   "outputs": [],
   "source": [
    "def name():\n",
    "    return \"John Doe\""
   ]
  },
  {
   "cell_type": "markdown",
   "metadata": {},
   "source": [
    "# LOGICAL OPERATORS"
   ]
  },
  {
   "cell_type": "markdown",
   "metadata": {},
   "source": [
    "if-elif-else statement"
   ]
  },
  {
   "cell_type": "code",
   "execution_count": null,
   "metadata": {},
   "outputs": [],
   "source": [
    "variable = 5\n",
    "\n",
    "if variable > 1 or variable < 10:\n",
    "    variable = variable + 1\n",
    "elif variable != 6 and variable > 15:\n",
    "    variable = 1\n",
    "else:\n",
    "    variable = 2"
   ]
  },
  {
   "cell_type": "markdown",
   "metadata": {},
   "source": [
    "loop\n"
   ]
  },
  {
   "cell_type": "code",
   "execution_count": null,
   "metadata": {},
   "outputs": [],
   "source": [
    "variables = [1, 2, 3, 4, 5]\n",
    "for var in variables:\n",
    "    print(var)"
   ]
  },
  {
   "cell_type": "markdown",
   "metadata": {},
   "source": [
    "while loop "
   ]
  },
  {
   "cell_type": "code",
   "execution_count": null,
   "metadata": {},
   "outputs": [],
   "source": [
    "var = 6\n",
    "while var > 5:\n",
    "    var = var + 1"
   ]
  },
  {
   "cell_type": "markdown",
   "metadata": {},
   "source": [
    "# STRING METHOD"
   ]
  },
  {
   "cell_type": "markdown",
   "metadata": {},
   "source": [
    "Capitalize the text"
   ]
  },
  {
   "cell_type": "code",
   "execution_count": null,
   "metadata": {},
   "outputs": [],
   "source": [
    "text = \"hello\"\n",
    "capitalized_text = text.upper()"
   ]
  },
  {
   "cell_type": "markdown",
   "metadata": {},
   "source": [
    "Convert to lowercase\n"
   ]
  },
  {
   "cell_type": "code",
   "execution_count": null,
   "metadata": {},
   "outputs": [],
   "source": [
    "text = \"HELLO\"\n",
    "lowercase_text = text.lower()"
   ]
  },
  {
   "cell_type": "markdown",
   "metadata": {},
   "source": [
    "Replace text\n"
   ]
  },
  {
   "cell_type": "code",
   "execution_count": null,
   "metadata": {},
   "outputs": [],
   "source": [
    "original_text = \"apple\"\n",
    "new_text = original_text.replace(\"a\", \"b\")"
   ]
  },
  {
   "cell_type": "markdown",
   "metadata": {},
   "source": [
    "Slice the string"
   ]
  },
  {
   "cell_type": "code",
   "execution_count": null,
   "metadata": {},
   "outputs": [],
   "source": [
    "text = \"python\"\n",
    "sliced_text = text[:3]  # Returns \"pyt\""
   ]
  },
  {
   "cell_type": "markdown",
   "metadata": {},
   "source": [
    "Strip leading and trailing whitespaces"
   ]
  },
  {
   "cell_type": "code",
   "execution_count": null,
   "metadata": {},
   "outputs": [],
   "source": [
    "text = \"   spaces   \"\n",
    "stripped_text = text.strip()"
   ]
  },
  {
   "cell_type": "markdown",
   "metadata": {},
   "source": [
    "Split the text into a list"
   ]
  },
  {
   "cell_type": "code",
   "execution_count": null,
   "metadata": {},
   "outputs": [],
   "source": [
    "text = \"apple,orange,banana\"\n",
    "text_list = text.split(\",\")"
   ]
  },
  {
   "cell_type": "markdown",
   "metadata": {},
   "source": [
    "# LIST METHOD"
   ]
  },
  {
   "cell_type": "markdown",
   "metadata": {},
   "source": [
    "Create a list"
   ]
  },
  {
   "cell_type": "code",
   "execution_count": null,
   "metadata": {},
   "outputs": [],
   "source": [
    "my_list = [1, 2, 3, 4]"
   ]
  },
  {
   "cell_type": "markdown",
   "metadata": {},
   "source": [
    "Add item to the end of the list\n"
   ]
  },
  {
   "cell_type": "code",
   "execution_count": null,
   "metadata": {},
   "outputs": [],
   "source": [
    "my_list.append(5)"
   ]
  },
  {
   "cell_type": "markdown",
   "metadata": {},
   "source": [
    "Sort the list in ascending order\n"
   ]
  },
  {
   "cell_type": "code",
   "execution_count": null,
   "metadata": {},
   "outputs": [],
   "source": [
    "my_list.sort()"
   ]
  },
  {
   "cell_type": "markdown",
   "metadata": {},
   "source": [
    "Delete item at the specified index"
   ]
  },
  {
   "cell_type": "code",
   "execution_count": null,
   "metadata": {},
   "outputs": [],
   "source": [
    "my_list.pop(1)"
   ]
  },
  {
   "cell_type": "markdown",
   "metadata": {},
   "source": [
    "Slice the list to get elements from index 1 to 3 (exclusive)"
   ]
  },
  {
   "cell_type": "code",
   "execution_count": null,
   "metadata": {},
   "outputs": [],
   "source": [
    "selected_elements = my_list[1:3]"
   ]
  },
  {
   "cell_type": "markdown",
   "metadata": {},
   "source": [
    "# Lambda Functions"
   ]
  },
  {
   "cell_type": "markdown",
   "metadata": {},
   "source": [
    "import pandas as pd\n",
    "\n",
    "Create a DataFrame\n",
    "data = {'A': [1, 2, 3], 'B': [4, 5, 6]}\n",
    "df = pd.DataFrame(data)\n",
    "\n",
    "Use a lambda function with apply to square each element in column 'A'\n",
    "df['A_squared'] = df['A'].apply(lambda x: x**2)\n",
    "\n",
    "Display the modified DataFrame\n",
    "print(df)"
   ]
  },
  {
   "cell_type": "markdown",
   "metadata": {},
   "source": [
    "# time module"
   ]
  },
  {
   "cell_type": "code",
   "execution_count": 22,
   "metadata": {},
   "outputs": [
    {
     "name": "stdout",
     "output_type": "stream",
     "text": [
      "1707056031.4671533\n",
      "time.struct_time(tm_year=2024, tm_mon=2, tm_mday=4, tm_hour=9, tm_min=13, tm_sec=51, tm_wday=6, tm_yday=35, tm_isdst=0)\n",
      "Sun Feb  4 09:13:51 2024\n",
      "Local time in a formatted string: 2024-02-04 09:13:51\n"
     ]
    }
   ],
   "source": [
    "import time\n",
    "\n",
    "# Get the current timestamp\n",
    "timestamp = time.time()\n",
    "print(timestamp)\n",
    "\n",
    "# Convert the timestamp to a local time struct\n",
    "local = time.localtime(timestamp)\n",
    "print (local)\n",
    "\n",
    "# Format the local time as a string\n",
    "result = time.asctime(local)\n",
    "print (result)\n",
    "\n",
    "# Convert a timestamp to a struct_time and format it as a string.\n",
    "current_time = time.time()\n",
    "local_time = time.localtime(current_time)\n",
    "formatted_time = time.strftime(\"%Y-%m-%d %H:%M:%S\", local_time)\n",
    "\n",
    "print(\"Local time in a formatted string:\", formatted_time)"
   ]
  },
  {
   "cell_type": "markdown",
   "metadata": {},
   "source": [
    "# re module\n",
    "\n",
    "- [a-z]: Matches any lowercase letter.\n",
    "- [A-Z]: Matches any uppercase letter.\n",
    "- [0-9]: Matches any digit.\n",
    "- [^0-9]: Matches any character that is not a digit."
   ]
  },
  {
   "cell_type": "code",
   "execution_count": 19,
   "metadata": {},
   "outputs": [
    {
     "name": "stdout",
     "output_type": "stream",
     "text": [
      "Email Addresses: ['123']\n"
     ]
    }
   ],
   "source": [
    "import re\n",
    "\n",
    "text = \"Contact us at info@example.com or support@test.org for assistance.123\"\n",
    "\n",
    "# Define a regex pattern to match email addresses\n",
    "pattern = r'[0-9]+'\n",
    "\n",
    "# Use re.findall() to extract all email addresses from the text\n",
    "find = re.findall(email_pattern, text)\n",
    "\n",
    "# Print the extracted email addresses\n",
    "print(\"Email Addresses:\", find)\n"
   ]
  },
  {
   "cell_type": "markdown",
   "metadata": {},
   "source": [
    "# random module"
   ]
  },
  {
   "cell_type": "code",
   "execution_count": 23,
   "metadata": {},
   "outputs": [
    {
     "name": "stdout",
     "output_type": "stream",
     "text": [
      "Random integer: 4\n"
     ]
    }
   ],
   "source": [
    "import random\n",
    "\n",
    "random_integer = random.randint(1, 10)\n",
    "print(\"Random integer:\", random_integer)"
   ]
  },
  {
   "cell_type": "markdown",
   "metadata": {},
   "source": [
    "# requests"
   ]
  },
  {
   "cell_type": "code",
   "execution_count": null,
   "metadata": {},
   "outputs": [],
   "source": [
    "import sqlite3\n",
    "\n",
    "# Connect to the SQLite database\n",
    "conn = sqlite3.connect('name.db')\n",
    "\n",
    "# Create a cursor object\n",
    "cur = conn.cursor()\n",
    "\n",
    "# Execute a SELECT query on the 'example_table' table\n",
    "cur.execute('SELECT * FROM example_table')\n",
    "\n",
    "# Fetch all the results\n",
    "results = cur.fetchall()\n",
    "\n",
    "# Print the results\n",
    "for row in results:\n",
    "    print(row)\n",
    "\n",
    "# Close the cursor and connection\n",
    "cur.close()\n",
    "conn.close()"
   ]
  },
  {
   "cell_type": "code",
   "execution_count": null,
   "metadata": {},
   "outputs": [],
   "source": [
    "import json\n",
    "import requests\n",
    "import sys\n",
    "\n",
    "# Check if the correct number of command-line arguments is provided\n",
    "if len(sys.argv) != 2:\n",
    "    sys.exit()\n",
    "\n",
    "# Make a request to the iTunes Search API with the provided search term\n",
    "response = requests.get(\"https://itunes.apple.com/search?entity=song&limit=50&term=\" + sys.argv[1])\n",
    "\n",
    "# Parse the response JSON\n",
    "o = response.json()\n",
    "\n",
    "# Print the names of the songs from the search results\n",
    "for result in o[\"results\"]:\n",
    "    print(result[\"trackName\"])"
   ]
  },
  {
   "cell_type": "markdown",
   "metadata": {},
   "source": [
    "# Pandas"
   ]
  },
  {
   "cell_type": "code",
   "execution_count": 27,
   "metadata": {},
   "outputs": [],
   "source": [
    "import pandas as pd\n",
    "\n",
    "# Create a Series\n",
    "s = pd.Series([1, 2, 3])\n",
    "\n",
    "# Set custom index\n",
    "s.index = [\"a\", \"b\", \"c\"]\n",
    "\n",
    "# Access the element at index 'c'\n",
    "value_at_c = s.loc[\"c\"]\n",
    "\n",
    "# Select elements where the value is greater than 2\n",
    "subset_greater_than_2 = s[s > 2]\n",
    "\n",
    "# Calculate the mean of the Series\n",
    "mean_value = s.mean()\n"
   ]
  },
  {
   "cell_type": "code",
   "execution_count": 28,
   "metadata": {},
   "outputs": [
    {
     "name": "stdout",
     "output_type": "stream",
     "text": [
      "a    1\n",
      "b    2\n",
      "c    3\n",
      "dtype: int64\n"
     ]
    }
   ],
   "source": [
    "# Sample dictionary\n",
    "data_dict = {'a': 1, 'b': 2, 'c': 3}\n",
    "\n",
    "# Create a Series from the dictionary\n",
    "s = pd.Series(data_dict)\n",
    "\n",
    "# Print the Series\n",
    "print(s)"
   ]
  },
  {
   "cell_type": "code",
   "execution_count": null,
   "metadata": {},
   "outputs": [],
   "source": [
    "import pandas as pd\n",
    "\n",
    "# Create an empty DataFrame with specified columns\n",
    "df = pd.DataFrame(columns=[\"a\", \"b\", \"column\"])\n",
    "\n",
    "# Print DataFrame columns and index\n",
    "print(\"DataFrame columns:\", df.columns)\n",
    "print(\"DataFrame index:\", df.index)\n",
    "\n",
    "# Display DataFrame information\n",
    "df.info()\n",
    "\n",
    "# index-based selection\n",
    "row_at_index_1 = df.iloc[1]\n",
    "\n",
    "# Index-based selection\n",
    "row_at_index_2 = df.iloc[2]\n",
    "\n",
    "# Select column\n",
    "column_data = df['column']\n",
    "\n",
    "# Drop rows\n",
    "df_dropped_row = df.drop(1)\n",
    "\n",
    "# Drop columns\n",
    "df_dropped_columns = df.drop(columns=[\"a\", \"b\"])\n",
    "\n",
    "# Column and index names in the rename function\n",
    "df_renamed = df.rename(columns={\"old_column\": \"new_column\"}, index={\"old_index\": \"new_index\"})\n",
    "\n",
    "# Add columns\n",
    "df['new'] = df['a'] + df['b']\n",
    "\n",
    "# Reset index\n",
    "df_reset_index = df.reset_index()\n",
    "\n",
    "# Format datetime\n",
    "df['column'] = pd.to_datetime(df['column'])\n",
    "\n",
    "# Change index\n",
    "df.set_index('column', inplace=True)\n"
   ]
  },
  {
   "cell_type": "code",
   "execution_count": 30,
   "metadata": {},
   "outputs": [],
   "source": [
    "import pandas as pd\n",
    "\n",
    "# Create a small DataFrame (df1)\n",
    "data1 = {'key': ['A', 'B', 'C'], 'value_df1': [1, 2, 3]}\n",
    "df1 = pd.DataFrame(data1)\n",
    "\n",
    "# Create another small DataFrame (df2)\n",
    "data2 = {'key': ['A', 'B', 'D'], 'value_df2': [4, 5, 6]}\n",
    "df2 = pd.DataFrame(data2)\n",
    "\n",
    "\n",
    "# Concatenate DataFrames along rows (axis=0)\n",
    "concatenated_df = pd.concat([df1, df2], ignore_index=True)\n",
    "\n",
    "\n",
    "# Merge DataFrames based on a common key\n",
    "merged_df_inner = df1.merge(df2, on='key', how='inner')\n",
    "\n",
    "\n",
    "# Merge DataFrames with left join\n",
    "merged_df_left = df1.merge(df2, left_on='key', right_on='key', how='left')\n",
    "\n"
   ]
  },
  {
   "cell_type": "code",
   "execution_count": 33,
   "metadata": {},
   "outputs": [
    {
     "name": "stdout",
     "output_type": "stream",
     "text": [
      "\n",
      "Pivot Table Result:\n",
      "genre    Fiction  Non-Fiction\n",
      "author                       \n",
      "Author1     40.0          NaN\n",
      "Author2      NaN         35.0\n",
      "Author3     25.0          NaN\n"
     ]
    }
   ],
   "source": [
    "import pandas as pd\n",
    "\n",
    "# Sample DataFrame\n",
    "data = {'author': ['Author1', 'Author2', 'Author1', 'Author2', 'Author3'],\n",
    "        'genre': ['Fiction', 'Non-Fiction', 'Fiction', 'Non-Fiction', 'Fiction'],\n",
    "        'column': [10, 20, 30, 15, 25]}\n",
    "\n",
    "df = pd.DataFrame(data)\n",
    "\n",
    "\n",
    "# Create a pivot table\n",
    "pivot_table_result = df.pivot_table(index=\"author\", columns='genre', values='column', aggfunc='sum')\n",
    "\n",
    "# Display the pivot table result\n",
    "print(\"\\nPivot Table Result:\")\n",
    "print(pivot_table_result)\n"
   ]
  }
 ],
 "metadata": {
  "kernelspec": {
   "display_name": "base",
   "language": "python",
   "name": "python3"
  },
  "language_info": {
   "codemirror_mode": {
    "name": "ipython",
    "version": 3
   },
   "file_extension": ".py",
   "mimetype": "text/x-python",
   "name": "python",
   "nbconvert_exporter": "python",
   "pygments_lexer": "ipython3",
   "version": "3.11.5"
  }
 },
 "nbformat": 4,
 "nbformat_minor": 2
}
