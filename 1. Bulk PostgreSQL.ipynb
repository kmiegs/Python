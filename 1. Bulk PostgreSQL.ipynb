{
 "cells": [
  {
   "cell_type": "code",
   "execution_count": 3,
   "metadata": {},
   "outputs": [
    {
     "name": "stderr",
     "output_type": "stream",
     "text": [
      "Inserting data: 100%|██████████| 622/622 [02:14<00:00,  4.63it/s]\n"
     ]
    }
   ],
   "source": [
    "import psycopg2\n",
    "from psycopg2.extras import execute_values\n",
    "from tqdm import tqdm\n",
    "\n",
    "# Function to get the connection and cursor\n",
    "def get_conn():\n",
    "    conn = psycopg2.connect(database=\"postgres\",\n",
    "                            host=\"localhost\",\n",
    "                            user=\"postgres\",\n",
    "                            password=\"mysecretpass\",\n",
    "                            port=\"5432\")\n",
    "    cursor = conn.cursor()\n",
    "    return cursor, conn\n",
    "\n",
    "# Function to insert data in bulk\n",
    "def insert_data_in_bulk(data):\n",
    "    cursor, conn = get_conn()\n",
    "    insert_statement = f\"INSERT INTO trades (country_code, year, comm_code, flow, trade_usd, kg, quantity, quantity_name) VALUES {data};\"\n",
    "    cursor.execute(insert_statement)\n",
    "    conn.commit()\n",
    "    conn.close()\n",
    "\n",
    "# Read data from the SQL file\n",
    "with open('postgres_public_trades.sql', 'r') as file:\n",
    "    data = file.read()\n",
    "\n",
    "def split_into_batches(data, num_items):\n",
    "    data_list = data.split(',\\n')\n",
    "    batches = [',\\n'.join(data_list[i:i + num_items]) for i in range(0, len(data_list), num_items)]\n",
    "    return batches\n",
    "\n",
    "num_items = 10000  # Specify the number of items per batch\n",
    "batches = split_into_batches(data, num_items)\n",
    "\n",
    "# Call the function for each batch with a progress bar\n",
    "for i, batch in enumerate(tqdm(batches, desc=\"Inserting data\")):\n",
    "    insert_data_in_bulk(batch)\n"
   ]
  }
 ],
 "metadata": {
  "kernelspec": {
   "display_name": "base",
   "language": "python",
   "name": "python3"
  },
  "language_info": {
   "codemirror_mode": {
    "name": "ipython",
    "version": 3
   },
   "file_extension": ".py",
   "mimetype": "text/x-python",
   "name": "python",
   "nbconvert_exporter": "python",
   "pygments_lexer": "ipython3",
   "version": "3.11.5"
  }
 },
 "nbformat": 4,
 "nbformat_minor": 2
}
