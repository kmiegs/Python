{
 "cells": [
  {
   "cell_type": "code",
   "execution_count": 108,
   "metadata": {},
   "outputs": [],
   "source": [
    "import snowflake.connector\n",
    "\n",
    "# Establish a connection to Snowflake\n",
    "conn = snowflake.connector.connect(\n",
    "    user='ADMIN2',\n",
    "    password='password',\n",
    "    account='diqfzdl-wz48198',\n",
    "    warehouse='COMPUTE_WH',\n",
    "    database='MY_DB_08',\n",
    "    schema='MY_SCHEMA_08',\n",
    ")"
   ]
  },
  {
   "cell_type": "code",
   "execution_count": 109,
   "metadata": {},
   "outputs": [],
   "source": [
    "# Create a cursor\n",
    "cursor = conn.cursor()\n",
    "\n",
    "# Execute the query to set the role\n",
    "cursor.execute(\"use role accountadmin\")\n",
    "\n",
    "csv_file_path = r'C:\\Users\\user\\Downloads\\test4.csv'  # Provide the full path including the file name\n",
    "csv_stage_name = 'MY_STG'\n"
   ]
  },
  {
   "cell_type": "code",
   "execution_count": 110,
   "metadata": {},
   "outputs": [
    {
     "name": "stdout",
     "output_type": "stream",
     "text": [
      "[('my_stg/test.csv.gz', 8746144, '2f84e662b281988ca9f11628fb96e693', 'Fri, 2 Feb 2024 20:21:35 GMT'), ('my_stg/test2.csv', 23458736, '001e116517947c3c683d99843dc3b022', 'Fri, 2 Feb 2024 21:38:54 GMT'), ('my_stg/test3.csv', 23458736, 'b70d6f2ab29f4e0e8be5aaf3b2f0731e', 'Fri, 2 Feb 2024 21:50:53 GMT'), ('my_stg/test4.csv', 23458736, 'fab2ea89ea4bc87e0254a855948f1106', 'Sat, 3 Feb 2024 12:26:20 GMT')]\n"
     ]
    }
   ],
   "source": [
    "# Create a cursor object\n",
    "cursor = conn.cursor()\n",
    "\n",
    "# Put command to upload the CSV file to the stage\n",
    "put_command = f\"PUT file://{csv_file_path} @MY_DB_08.MY_SCHEMA_08.{csv_stage_name}/ auto_compress=false\"\n",
    "cursor.execute(put_command)\n",
    "\n",
    "# Check if the file exists in the stage\n",
    "list_command = f\"LIST @MY_DB_08.MY_SCHEMA_08.{csv_stage_name}/\"\n",
    "cursor.execute(list_command)\n",
    "result = cursor.fetchall()\n",
    "\n",
    "print (result)\n",
    "\n"
   ]
  },
  {
   "cell_type": "code",
   "execution_count": 112,
   "metadata": {},
   "outputs": [
    {
     "name": "stdout",
     "output_type": "stream",
     "text": [
      "[('my_stg/test4.csv', 'PARTIALLY_LOADED', 150001, 77580, 150001, 72421, \"Numeric value 'C_ACCTBAL' is not recognized\", 1, 38, '\"CUSTOMER_CSV\"[\"ACCT_BAL\":5]')]\n"
     ]
    }
   ],
   "source": [
    "# Create a cursor object\n",
    "cursor = conn.cursor()\n",
    "\n",
    "# Set the current database and schema\n",
    "cursor.execute(\"use database MY_DB_08\")\n",
    "cursor.execute(\"use schema MY_SCHEMA_08\")\n",
    "\n",
    "# Define the COPY command\n",
    "COPY_command = \"COPY INTO CUSTOMER_CSV FROM @MY_STG on_error=continue\"\n",
    "\n",
    "# Execute the COPY command\n",
    "cursor.execute(COPY_command)\n",
    "\n",
    "errors = cursor.fetchall()\n",
    "print(errors)"
   ]
  }
 ],
 "metadata": {
  "kernelspec": {
   "display_name": "base",
   "language": "python",
   "name": "python3"
  },
  "language_info": {
   "codemirror_mode": {
    "name": "ipython",
    "version": 3
   },
   "file_extension": ".py",
   "mimetype": "text/x-python",
   "name": "python",
   "nbconvert_exporter": "python",
   "pygments_lexer": "ipython3",
   "version": "3.11.5"
  }
 },
 "nbformat": 4,
 "nbformat_minor": 2
}
